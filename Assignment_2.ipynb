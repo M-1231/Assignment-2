{
  "nbformat": 4,
  "nbformat_minor": 0,
  "metadata": {
    "colab": {
      "provenance": []
    },
    "kernelspec": {
      "name": "python3",
      "display_name": "Python 3"
    },
    "language_info": {
      "name": "python"
    }
  },
  "cells": [
    {
      "cell_type": "markdown",
      "source": [
        "Q.1\n",
        "Comment in python can be made through #(hash) symbol.\n",
        "There are two types of comments in python:\n",
        "1. Single line comment\n",
        "#This is how single line comment is being written\n",
        "2. Multi line comment using hash\n",
        "# My name is mahima shukla.\n",
        "# I am a data science enthusiast.\n",
        "# I got amazing mentors in this data science course.\n",
        "  Multi line comment using string literal\n",
        "\"\"\"Python is a versatile language, commonly used for data analysis, automation,\n",
        "data visualisation etc. Python is being taught to us by Sudhanshu Sir.We learnt\n",
        "about python variables,operators,conditions,data types like string,list,tuple,\n",
        "dictionary and their associated functions\"\"\""
      ],
      "metadata": {
        "id": "XX6tnQUtJ19a"
      }
    },
    {
      "cell_type": "markdown",
      "source": [
        "Q.2\n",
        "Variables in python store values. To assign the value, we need variables ie to\n",
        "give name to that object. For example we have stored \"mahima\" in variable var. It can be defined by following ways.\n"
      ],
      "metadata": {
        "id": "-4bQ78lfIisf"
      }
    },
    {
      "cell_type": "code",
      "source": [
        "var=\"mahima\"\n",
        "print(var)\n"
      ],
      "metadata": {
        "colab": {
          "base_uri": "https://localhost:8080/"
        },
        "id": "2lxymQAT84fi",
        "outputId": "2be13c7f-dbd7-4679-b75d-47acc0f5436f"
      },
      "execution_count": 5,
      "outputs": [
        {
          "output_type": "stream",
          "name": "stdout",
          "text": [
            "mahima\n"
          ]
        }
      ]
    },
    {
      "cell_type": "code",
      "source": [
        "var=\"krishna\"\n",
        "var_=\"sam\"\n",
        "_var=\"john\"\n",
        "VAR=\"hari\"\n",
        "age=10\n",
        "i_=True\n",
        "print(var,var_,_var,VAR,age,i_)"
      ],
      "metadata": {
        "colab": {
          "base_uri": "https://localhost:8080/"
        },
        "id": "Dlrr459Q86M2",
        "outputId": "025e3938-f2cf-4294-d117-00214d968c30"
      },
      "execution_count": 6,
      "outputs": [
        {
          "output_type": "stream",
          "name": "stdout",
          "text": [
            "krishna sam john hari 10 True\n"
          ]
        }
      ]
    },
    {
      "cell_type": "markdown",
      "source": [
        "Q.3\n",
        "One data type can be converted to another using type catsing/type conversion.\n",
        "For this we use the type name as a function.\n",
        "For example"
      ],
      "metadata": {
        "id": "1yAMCZOVI9Ue"
      }
    },
    {
      "cell_type": "code",
      "source": [
        "l=\"pwskills\"\n",
        "print(tuple(l))\n"
      ],
      "metadata": {
        "colab": {
          "base_uri": "https://localhost:8080/"
        },
        "id": "smbjJ64oAqUB",
        "outputId": "c156cfa5-2882-4a5a-e5f7-5e95589262ad"
      },
      "execution_count": 17,
      "outputs": [
        {
          "output_type": "stream",
          "name": "stdout",
          "text": [
            "('p', 'w', 's', 'k', 'i', 'l', 'l', 's')\n"
          ]
        }
      ]
    },
    {
      "cell_type": "code",
      "source": [
        "l=\"please\"\n",
        "print(set(l))"
      ],
      "metadata": {
        "colab": {
          "base_uri": "https://localhost:8080/"
        },
        "id": "tjzp3iNNBhLT",
        "outputId": "63dd6c21-80e4-4e3f-ee7e-9018b5368e12"
      },
      "execution_count": 16,
      "outputs": [
        {
          "output_type": "stream",
          "name": "stdout",
          "text": [
            "{'e', 'l', 'a', 's', 'p'}\n"
          ]
        }
      ]
    },
    {
      "cell_type": "code",
      "source": [
        "s=\"ram\"\n",
        "l=[1,2,3,4,\"kitty\",True]\n",
        "l+s \"\"\"showing error bcz l and s have differnt data type so we will do\n",
        " type casting to solve this problem\"\"\"\n"
      ],
      "metadata": {
        "colab": {
          "base_uri": "https://localhost:8080/",
          "height": 235
        },
        "id": "zkUAnyi5C1AO",
        "outputId": "340966bb-1fe0-4362-a0fe-eea239b94737"
      },
      "execution_count": 20,
      "outputs": [
        {
          "output_type": "error",
          "ename": "TypeError",
          "evalue": "ignored",
          "traceback": [
            "\u001b[0;31m---------------------------------------------------------------------------\u001b[0m",
            "\u001b[0;31mTypeError\u001b[0m                                 Traceback (most recent call last)",
            "\u001b[0;32m<ipython-input-20-d2e3d9a17006>\u001b[0m in \u001b[0;36m<cell line: 3>\u001b[0;34m()\u001b[0m\n\u001b[1;32m      1\u001b[0m \u001b[0ms\u001b[0m\u001b[0;34m=\u001b[0m\u001b[0;34m\"ram\"\u001b[0m\u001b[0;34m\u001b[0m\u001b[0;34m\u001b[0m\u001b[0m\n\u001b[1;32m      2\u001b[0m \u001b[0ml\u001b[0m\u001b[0;34m=\u001b[0m\u001b[0;34m[\u001b[0m\u001b[0;36m1\u001b[0m\u001b[0;34m,\u001b[0m\u001b[0;36m2\u001b[0m\u001b[0;34m,\u001b[0m\u001b[0;36m3\u001b[0m\u001b[0;34m,\u001b[0m\u001b[0;36m4\u001b[0m\u001b[0;34m,\u001b[0m\u001b[0;34m\"kitty\"\u001b[0m\u001b[0;34m,\u001b[0m\u001b[0;32mTrue\u001b[0m\u001b[0;34m]\u001b[0m\u001b[0;34m\u001b[0m\u001b[0;34m\u001b[0m\u001b[0m\n\u001b[0;32m----> 3\u001b[0;31m \u001b[0ml\u001b[0m\u001b[0;34m+\u001b[0m\u001b[0ms\u001b[0m\u001b[0;31m# showing error bcz both s and l have different data type to solve this we will do type casting\u001b[0m\u001b[0;34m\u001b[0m\u001b[0;34m\u001b[0m\u001b[0m\n\u001b[0m\u001b[1;32m      4\u001b[0m \u001b[0ml\u001b[0m\u001b[0;34m+\u001b[0m\u001b[0mlist\u001b[0m\u001b[0;34m(\u001b[0m\u001b[0ms\u001b[0m\u001b[0;34m)\u001b[0m\u001b[0;34m\u001b[0m\u001b[0;34m\u001b[0m\u001b[0m\n",
            "\u001b[0;31mTypeError\u001b[0m: can only concatenate list (not \"str\") to list"
          ]
        }
      ]
    },
    {
      "cell_type": "code",
      "source": [
        "l+list(s)"
      ],
      "metadata": {
        "colab": {
          "base_uri": "https://localhost:8080/"
        },
        "id": "vaPUO8WEDbHY",
        "outputId": "9c09d464-0044-46ad-860d-495a2cf57b1a"
      },
      "execution_count": 19,
      "outputs": [
        {
          "output_type": "execute_result",
          "data": {
            "text/plain": [
              "[1, 2, 3, 4, 'kitty', True, 'r', 'a', 'm']"
            ]
          },
          "metadata": {},
          "execution_count": 19
        }
      ]
    },
    {
      "cell_type": "markdown",
      "source": [
        "Q.4\n",
        "To run the scripts with the python command, we need to open command prompt and\n",
        "type python , then simply use print command with braces to execute the code like\n",
        "\n",
        "print ('mahima shukla')\n",
        "\n",
        "mahima shukla\n"
      ],
      "metadata": {
        "id": "877ar-TFJHJX"
      }
    },
    {
      "cell_type": "code",
      "source": [
        "#Q.5\n",
        "my_list=[1,2,3,4,5]\n",
        "my_list[1:3]"
      ],
      "metadata": {
        "colab": {
          "base_uri": "https://localhost:8080/"
        },
        "id": "0z40AuiYJMa2",
        "outputId": "0688a078-aeac-46d5-e441-af68e8743bf7"
      },
      "execution_count": 22,
      "outputs": [
        {
          "output_type": "execute_result",
          "data": {
            "text/plain": [
              "[2, 3]"
            ]
          },
          "metadata": {},
          "execution_count": 22
        }
      ]
    },
    {
      "cell_type": "markdown",
      "source": [
        "Q.6 Complex number in mathematics is a combination of real and imaginary numbers.In python it can be represented as"
      ],
      "metadata": {
        "id": "hu1AaWIOK4cu"
      }
    },
    {
      "cell_type": "code",
      "source": [
        "c=5+3j\n",
        "print(type(c))\n",
        "print(c.real)\n",
        "print(c.imag)"
      ],
      "metadata": {
        "colab": {
          "base_uri": "https://localhost:8080/"
        },
        "id": "D3NqbdJQKqMx",
        "outputId": "932f23a2-93b4-4af3-df75-e27688ef9d9c"
      },
      "execution_count": 26,
      "outputs": [
        {
          "output_type": "stream",
          "name": "stdout",
          "text": [
            "<class 'complex'>\n",
            "5.0\n",
            "3.0\n"
          ]
        }
      ]
    },
    {
      "cell_type": "markdown",
      "source": [
        "Q.7 To declare the variable age, it should not start with a number, Age ,age and AGE is treated differently, can include alpha numeric characters and underscore."
      ],
      "metadata": {
        "id": "ORlxem43M3WY"
      }
    },
    {
      "cell_type": "code",
      "source": [
        "_age=25\n",
        "print(_age)\n",
        "age0=25\n",
        "print(age0)\n",
        "a_g_e=25\n",
        "print(a_g_e)"
      ],
      "metadata": {
        "colab": {
          "base_uri": "https://localhost:8080/"
        },
        "id": "bJ_sxkN5N3KP",
        "outputId": "d2b8a666-385c-415c-a623-085d53a6d668"
      },
      "execution_count": 31,
      "outputs": [
        {
          "output_type": "stream",
          "name": "stdout",
          "text": [
            "25\n",
            "25\n",
            "25\n"
          ]
        }
      ]
    },
    {
      "cell_type": "code",
      "source": [
        "print(_Age)"
      ],
      "metadata": {
        "colab": {
          "base_uri": "https://localhost:8080/",
          "height": 165
        },
        "id": "LN8DfB81N77Y",
        "outputId": "5a085f02-0ea2-4921-99df-12c1e9d44dcc"
      },
      "execution_count": 28,
      "outputs": [
        {
          "output_type": "error",
          "ename": "NameError",
          "evalue": "ignored",
          "traceback": [
            "\u001b[0;31m---------------------------------------------------------------------------\u001b[0m",
            "\u001b[0;31mNameError\u001b[0m                                 Traceback (most recent call last)",
            "\u001b[0;32m<ipython-input-28-77a12f083c13>\u001b[0m in \u001b[0;36m<cell line: 1>\u001b[0;34m()\u001b[0m\n\u001b[0;32m----> 1\u001b[0;31m \u001b[0mprint\u001b[0m\u001b[0;34m(\u001b[0m\u001b[0m_Age\u001b[0m\u001b[0;34m)\u001b[0m\u001b[0;34m\u001b[0m\u001b[0;34m\u001b[0m\u001b[0m\n\u001b[0m",
            "\u001b[0;31mNameError\u001b[0m: name '_Age' is not defined"
          ]
        }
      ]
    },
    {
      "cell_type": "code",
      "source": [
        "#Q.8\n",
        "price=9.99\n",
        "type(price)#it belong to float data type"
      ],
      "metadata": {
        "colab": {
          "base_uri": "https://localhost:8080/"
        },
        "id": "8CO-N9dON_vC",
        "outputId": "c56620d1-9a8a-4905-8bf2-6f5c4c2cbcef"
      },
      "execution_count": 32,
      "outputs": [
        {
          "output_type": "execute_result",
          "data": {
            "text/plain": [
              "float"
            ]
          },
          "metadata": {},
          "execution_count": 32
        }
      ]
    },
    {
      "cell_type": "code",
      "source": [
        "#Q.9\n",
        "name=\"mahima shukla\"\n",
        "print(name)"
      ],
      "metadata": {
        "colab": {
          "base_uri": "https://localhost:8080/"
        },
        "id": "ucukTlv4PCI6",
        "outputId": "545794ee-9d87-4c9a-a2e3-db4ba3456a22"
      },
      "execution_count": 33,
      "outputs": [
        {
          "output_type": "stream",
          "name": "stdout",
          "text": [
            "mahima shukla\n"
          ]
        }
      ]
    },
    {
      "cell_type": "code",
      "source": [
        "#Q.10\n",
        "s=\"Hello, World!\"\n",
        "s[6:12]\n"
      ],
      "metadata": {
        "colab": {
          "base_uri": "https://localhost:8080/",
          "height": 36
        },
        "id": "r0QxUWC8PVIY",
        "outputId": "de60ac21-eb6d-48df-dbf3-e6ef6382e364"
      },
      "execution_count": 40,
      "outputs": [
        {
          "output_type": "execute_result",
          "data": {
            "text/plain": [
              "' World'"
            ],
            "application/vnd.google.colaboratory.intrinsic+json": {
              "type": "string"
            }
          },
          "metadata": {},
          "execution_count": 40
        }
      ]
    },
    {
      "cell_type": "code",
      "source": [
        "#Q.11\n",
        "is_student=True\n",
        "if is_student==True:\n",
        "    print(\"you are currently a student\")\n",
        "else:\n",
        "    print(\"you are not currently a student\")\n",
        "\n"
      ],
      "metadata": {
        "colab": {
          "base_uri": "https://localhost:8080/"
        },
        "id": "HpFYmNohSJpV",
        "outputId": "dc71d456-9abf-4b81-9c0f-db80486e04c3"
      },
      "execution_count": 45,
      "outputs": [
        {
          "output_type": "stream",
          "name": "stdout",
          "text": [
            "you are currently a student\n"
          ]
        }
      ]
    },
    {
      "cell_type": "code",
      "source": [],
      "metadata": {
        "id": "uKrM0hrMTy4e"
      },
      "execution_count": null,
      "outputs": []
    }
  ]
}